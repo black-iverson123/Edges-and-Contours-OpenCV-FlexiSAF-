{
 "cells": [
  {
   "cell_type": "code",
   "execution_count": 47,
   "metadata": {},
   "outputs": [],
   "source": [
    "#importing OpenCv and rreading an image\n",
    "# importing matplotlib to display output\n",
    "\n",
    "import cv2\n",
    "\n",
    "\n",
    "img = cv2.imread('OIP.jpg')\n"
   ]
  },
  {
   "cell_type": "code",
   "execution_count": 48,
   "metadata": {},
   "outputs": [],
   "source": [
    "#convert the image to grayscale\n",
    "\n",
    "gray_image = cv2.cvtColor(img, cv2.COLOR_BGR2GRAY)"
   ]
  },
  {
   "cell_type": "code",
   "execution_count": 49,
   "metadata": {},
   "outputs": [],
   "source": [
    "# here we apply binary thrsholding to convert the gray image to black and white\n",
    "#here any pixel value greate that 150 will be set to 255(white) lesser ones to 0(black)\n",
    "# thrsh is a variable to hold binary image\n",
    "ret, thresh = cv2.threshold(gray_image, 150, 255, 0, cv2.THRESH_BINARY)\n",
    "\n",
    "# Visualize the image\n",
    "cv2.imshow(\"Binary Image\", thresh)\n",
    "cv2.waitKey(0)\n",
    "cv2.destroyAllWindows()\n"
   ]
  },
  {
   "cell_type": "code",
   "execution_count": 52,
   "metadata": {},
   "outputs": [
    {
     "data": {
      "text/plain": [
       "array([[[  0, 255,   0],\n",
       "        [  0, 255,   0],\n",
       "        [  0, 255,   0],\n",
       "        ...,\n",
       "        [  0, 255,   0],\n",
       "        [  0, 255,   0],\n",
       "        [  0, 255,   0]],\n",
       "\n",
       "       [[  0, 255,   0],\n",
       "        [  0, 255,   0],\n",
       "        [  0, 255,   0],\n",
       "        ...,\n",
       "        [  0, 255,   0],\n",
       "        [  0, 255,   0],\n",
       "        [  0, 255,   0]],\n",
       "\n",
       "       [[  0, 255,   0],\n",
       "        [  0, 255,   0],\n",
       "        [ 89, 243,  95],\n",
       "        ...,\n",
       "        [ 69, 221,  88],\n",
       "        [  0, 255,   0],\n",
       "        [  0, 255,   0]],\n",
       "\n",
       "       ...,\n",
       "\n",
       "       [[ 88, 156, 127],\n",
       "        [ 88, 159, 126],\n",
       "        [100, 124, 148],\n",
       "        ...,\n",
       "        [ 86, 125, 117],\n",
       "        [ 88, 127, 119],\n",
       "        [ 89, 128, 120]],\n",
       "\n",
       "       [[  0, 255,   0],\n",
       "        [  0, 255,   0],\n",
       "        [ 56, 183,  83],\n",
       "        ...,\n",
       "        [ 87, 126, 118],\n",
       "        [ 94, 131, 123],\n",
       "        [ 95, 132, 124]],\n",
       "\n",
       "       [[  0, 255,   0],\n",
       "        [  0, 255,   0],\n",
       "        [  0, 255,   0],\n",
       "        ...,\n",
       "        [ 88, 127, 119],\n",
       "        [ 95, 132, 124],\n",
       "        [ 97, 134, 126]]], dtype=uint8)"
      ]
     },
     "execution_count": 52,
     "metadata": {},
     "output_type": "execute_result"
    }
   ],
   "source": [
    "# to find the contours of the image\n",
    "# RETR_TREE in mode helps the function to retrieve all possible contours in binary image\n",
    "\n",
    "contours, hierachy = cv2.findContours(thresh, mode=cv2.RETR_TREE, method=cv2.CHAIN_APPROX_NONE)\n",
    "\n",
    "# draw contous fucntion is used here to overlay the contours on the image\n",
    "# contouridx indicates the contour points which we can use to specify the index position form the list.\n",
    "# using negative value draws all contour points\n",
    "#cv2 uses a BGR channel as opposed to the norms RGB so color indicates the color of contour points, using green here\n",
    "# thickness refer yo thickness of countour points\n",
    "\n",
    "cv2.drawContours(img, contours, contourIdx=-1, color=(0, 255, 0), thickness=2, lineType=cv2.LINE_AA)\n",
    "\n"
   ]
  },
  {
   "cell_type": "code",
   "execution_count": 53,
   "metadata": {},
   "outputs": [],
   "source": [
    "# display the derived contour over actual image\n",
    "\n",
    "cv2.imshow(\"Contoured Image\", img)\n",
    "cv2.waitKey(0)\n",
    "cv2.destroyAllWindows()\n"
   ]
  },
  {
   "cell_type": "code",
   "execution_count": null,
   "metadata": {},
   "outputs": [],
   "source": []
  }
 ],
 "metadata": {
  "kernelspec": {
   "display_name": "Python 3",
   "language": "python",
   "name": "python3"
  },
  "language_info": {
   "codemirror_mode": {
    "name": "ipython",
    "version": 3
   },
   "file_extension": ".py",
   "mimetype": "text/x-python",
   "name": "python",
   "nbconvert_exporter": "python",
   "pygments_lexer": "ipython3",
   "version": "3.11.4"
  }
 },
 "nbformat": 4,
 "nbformat_minor": 2
}
